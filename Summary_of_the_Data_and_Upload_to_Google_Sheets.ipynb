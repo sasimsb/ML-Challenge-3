{
  "nbformat": 4,
  "nbformat_minor": 0,
  "metadata": {
    "colab": {
      "name": "Summary of the Data and Upload to Google Sheets.ipynb",
      "provenance": [],
      "collapsed_sections": [],
      "authorship_tag": "ABX9TyPUHwpEkIgQlV7DPOO1Mr+E",
      "include_colab_link": true
    },
    "kernelspec": {
      "name": "python3",
      "display_name": "Python 3"
    },
    "language_info": {
      "name": "python"
    }
  },
  "cells": [
    {
      "cell_type": "markdown",
      "metadata": {
        "id": "view-in-github",
        "colab_type": "text"
      },
      "source": [
        "<a href=\"https://colab.research.google.com/github/sasimsb/ML-Challenge-3/blob/master/Summary_of_the_Data_and_Upload_to_Google_Sheets.ipynb\" target=\"_parent\"><img src=\"https://colab.research.google.com/assets/colab-badge.svg\" alt=\"Open In Colab\"/></a>"
      ]
    },
    {
      "cell_type": "markdown",
      "metadata": {
        "id": "g2xHLamgJxOm"
      },
      "source": [
        "**Importing the libraries and installing packages if needed**"
      ]
    },
    {
      "cell_type": "code",
      "metadata": {
        "colab": {
          "base_uri": "https://localhost:8080/"
        },
        "id": "0fvT8p5Me4-G",
        "outputId": "21631769-db34-4f1f-fc47-db8b5a54af56"
      },
      "source": [
        "try:\n",
        "  from google.colab import drive\n",
        "  drive.mount('/content/gdrive')\n",
        "except:\n",
        "  \"pass\""
      ],
      "execution_count": 9,
      "outputs": [
        {
          "output_type": "stream",
          "text": [
            "Mounted at /content/gdrive\n"
          ],
          "name": "stdout"
        }
      ]
    },
    {
      "cell_type": "code",
      "metadata": {
        "id": "LS0nTpDhffDD",
        "colab": {
          "base_uri": "https://localhost:8080/"
        },
        "outputId": "eb3f4bba-0ec0-49fb-f6cf-79f6a4dbb65e"
      },
      "source": [
        "import pandas as pd\n",
        "import numpy as np\n",
        "import os\n",
        "import warnings \n",
        "warnings.filterwarnings('ignore')\n",
        "import time\n",
        "import datetime\n",
        "!pip install xlsxwriter\n",
        "import xlsxwriter\n",
        "import openpyxl"
      ],
      "execution_count": 11,
      "outputs": [
        {
          "output_type": "stream",
          "text": [
            "Collecting xlsxwriter\n",
            "\u001b[?25l  Downloading https://files.pythonhosted.org/packages/93/51/11cb4545e95f1a845a6ca5475eb425272dc32c2f0e3592d80e7abd491374/XlsxWriter-1.4.4-py2.py3-none-any.whl (149kB)\n",
            "\r\u001b[K     |██▏                             | 10kB 16.2MB/s eta 0:00:01\r\u001b[K     |████▍                           | 20kB 20.3MB/s eta 0:00:01\r\u001b[K     |██████▋                         | 30kB 10.0MB/s eta 0:00:01\r\u001b[K     |████████▊                       | 40kB 8.2MB/s eta 0:00:01\r\u001b[K     |███████████                     | 51kB 5.4MB/s eta 0:00:01\r\u001b[K     |█████████████▏                  | 61kB 5.5MB/s eta 0:00:01\r\u001b[K     |███████████████▎                | 71kB 5.9MB/s eta 0:00:01\r\u001b[K     |█████████████████▌              | 81kB 6.4MB/s eta 0:00:01\r\u001b[K     |███████████████████▊            | 92kB 6.0MB/s eta 0:00:01\r\u001b[K     |██████████████████████          | 102kB 6.2MB/s eta 0:00:01\r\u001b[K     |████████████████████████        | 112kB 6.2MB/s eta 0:00:01\r\u001b[K     |██████████████████████████▎     | 122kB 6.2MB/s eta 0:00:01\r\u001b[K     |████████████████████████████▌   | 133kB 6.2MB/s eta 0:00:01\r\u001b[K     |██████████████████████████████▋ | 143kB 6.2MB/s eta 0:00:01\r\u001b[K     |████████████████████████████████| 153kB 6.2MB/s \n",
            "\u001b[?25hInstalling collected packages: xlsxwriter\n",
            "Successfully installed xlsxwriter-1.4.4\n"
          ],
          "name": "stdout"
        }
      ]
    },
    {
      "cell_type": "markdown",
      "metadata": {
        "id": "JDCZ-QzmKVQm"
      },
      "source": [
        "**Loading the excel file here or we can change the path of file**"
      ]
    },
    {
      "cell_type": "code",
      "metadata": {
        "id": "fRFFVMcxgMy7"
      },
      "source": [
        "## change your path location based on your path file present\n",
        "working_dir = '/content/gdrive/MyDrive/project2/'\n",
        "os.chdir(working_dir)\n",
        "## change the file name based on what is present\n",
        "data = pd.read_excel('Analysis_v03.xlsx', sheet_name=\"Original_Data\")"
      ],
      "execution_count": 12,
      "outputs": []
    },
    {
      "cell_type": "markdown",
      "metadata": {
        "id": "8TREp4yPKkvz"
      },
      "source": [
        "**Any Unncessary columns to delete**"
      ]
    },
    {
      "cell_type": "code",
      "metadata": {
        "id": "f0mL4Luegdhn"
      },
      "source": [
        "try:\n",
        "  del data['Unnamed: 18']\n",
        "  del data['Unnamed: 19']\n",
        "  del data['Unnamed: 20']\n",
        "  del data['Unnamed: 21']\n",
        "  del data['Unnamed: 22']\n",
        "  del data['Unnamed: 23']\n",
        "  del data['Unnamed: 24']\n",
        "  del data['Unnamed: 25']\n",
        "  del data['Unnamed: 26']\n",
        "  del data['Unnamed: 27']\n",
        "  del data['Unnamed: 28']\n",
        "  del data['Unnamed: 29']\n",
        "  del data['Unnamed: 30']\n",
        "  del data['County Selection']\n",
        "  del data['State Selection']\n",
        "  del data['Resi/Com Selection']\n",
        "  del data['Division.1']  \n",
        "except:\n",
        "  pass"
      ],
      "execution_count": 13,
      "outputs": []
    },
    {
      "cell_type": "markdown",
      "metadata": {
        "id": "IO67D_7IKp7W"
      },
      "source": [
        "**Check on the columns that are to be numeric but they are categorical** "
      ]
    },
    {
      "cell_type": "code",
      "metadata": {
        "colab": {
          "base_uri": "https://localhost:8080/"
        },
        "id": "k1GLRbvtjXST",
        "outputId": "3f158888-f794-4cd1-fae2-3f1955b0a89e"
      },
      "source": [
        "try:\n",
        "  data['Instrument Number'] = pd.to_numeric(data['Instrument Number'])\n",
        "except:\n",
        "  print(\"some characters are present so it wont convert to numeric\")"
      ],
      "execution_count": 14,
      "outputs": [
        {
          "output_type": "stream",
          "text": [
            "some characters are present so it wont convert to numeric\n"
          ],
          "name": "stdout"
        }
      ]
    },
    {
      "cell_type": "code",
      "metadata": {
        "colab": {
          "base_uri": "https://localhost:8080/"
        },
        "id": "ZgeG0olckYEV",
        "outputId": "94ceefef-65fc-48ef-c802-da42b84beea8"
      },
      "source": [
        "try:\n",
        "  data['Total Value'] = pd.to_numeric(data['Total Value'])\n",
        "except:\n",
        "  print(\"some characters are present so it wont convert to numeric\")"
      ],
      "execution_count": 15,
      "outputs": [
        {
          "output_type": "stream",
          "text": [
            "some characters are present so it wont convert to numeric\n"
          ],
          "name": "stdout"
        }
      ]
    },
    {
      "cell_type": "code",
      "metadata": {
        "colab": {
          "base_uri": "https://localhost:8080/"
        },
        "id": "tn8wGqYbktEh",
        "outputId": "1a0fe1d4-f471-4411-f87f-bf298ae2a323"
      },
      "source": [
        "try:\n",
        "  data['Lien Amount'] = pd.to_numeric(data['Lien Amount'])\n",
        "except:\n",
        "  print(\"some characters are present so it wont convert to numeric\")"
      ],
      "execution_count": 16,
      "outputs": [
        {
          "output_type": "stream",
          "text": [
            "some characters are present so it wont convert to numeric\n"
          ],
          "name": "stdout"
        }
      ]
    },
    {
      "cell_type": "markdown",
      "metadata": {
        "id": "lq3jyetRtJ06"
      },
      "source": [
        "**Column changing from categorical to numeric done here**"
      ]
    },
    {
      "cell_type": "code",
      "metadata": {
        "id": "MedaTuSG642T"
      },
      "source": [
        "data3 = data[data['Instrument Number'].notna()]"
      ],
      "execution_count": 17,
      "outputs": []
    },
    {
      "cell_type": "markdown",
      "metadata": {
        "id": "EXYoXWDnWl8Y"
      },
      "source": [
        "**Steps to convert the data from categorical to numeric**\n",
        "1. convert the column to string format\n",
        "2. replace the data from \".\" with \"-\"\n",
        "3. try to add \"-\" at the end so that no issue with other rows \n",
        "4. convert the data again to string format (check)\n",
        "5. split the data by extracting the information from the last \"-\" that is present\n",
        "6. replace the null values with 0 \n",
        "7. convert the column to numeric from categorical"
      ]
    },
    {
      "cell_type": "code",
      "metadata": {
        "id": "QLMR5JoC6zNa"
      },
      "source": [
        "data3['Total Value'] = data3['Total Value'].astype(str)\n",
        "data3['Total Value1'] =data3['Total Value'].str.replace(\".\",\"-\")\n",
        "data3['Total Value2'] = data3['Total Value1']+\"-\"\n",
        "data3['Total Value2']= data3['Total Value2'].astype(str)\n",
        "data3['Total Value3'] = data3['Total Value2'].apply(lambda x: x.split('-')[0])\n",
        "data3['Total Value3'] = data3['Total Value3'].replace(\"nan\",0)\n",
        "data3['Total Value3'] =  pd.to_numeric(data3['Total Value3'])\n",
        "del data3['Total Value1']\n",
        "del data3['Total Value2']"
      ],
      "execution_count": 18,
      "outputs": []
    },
    {
      "cell_type": "code",
      "metadata": {
        "id": "M50U1WJXFn-g"
      },
      "source": [
        "data3['Lien Amount'] = data3['Lien Amount'].astype(str)\n",
        "data3['Lien Amount'] =data3['Lien Amount'].str.replace(\"$\",\"\")\n",
        "data3['Lien Amount'] =data3['Lien Amount'].str.replace(\",\",\"\")\n",
        "data3['Lien Amount'] =data3['Lien Amount'].str.replace(\" \",\"\")\n",
        "data3['Lien Amount1'] =data3['Lien Amount'].str.replace(\".\",\"-\")\n",
        "data3['Lien Amount2'] = data3['Lien Amount1']+\"-\"\n",
        "data3['Lien Amount2']= data3['Lien Amount2'].astype(str)\n",
        "data3['Lien Amount3'] = data3['Lien Amount2'].apply(lambda x: x.split('-')[0])\n",
        "data3['Lien Amount3'] = data3['Lien Amount3'].replace(\"nan\",0)\n",
        "data3['Lien Amount3'] =  pd.to_numeric(data3['Lien Amount3'])\n",
        "del data3['Lien Amount1']\n",
        "del data3['Lien Amount2']"
      ],
      "execution_count": 19,
      "outputs": []
    },
    {
      "cell_type": "markdown",
      "metadata": {
        "id": "ISzgEDxaK3ic"
      },
      "source": [
        "***New variables creations ***\n",
        "1. Lien amount percentage \n",
        "2. lien amount bins"
      ]
    },
    {
      "cell_type": "code",
      "metadata": {
        "id": "F1VXpMw5DZtR"
      },
      "source": [
        "data3['lien_amount_Percent'] = data3['Lien Amount3']/data3['Total Value3']*100"
      ],
      "execution_count": 20,
      "outputs": []
    },
    {
      "cell_type": "code",
      "metadata": {
        "id": "XXTbzmAZLVI2"
      },
      "source": [
        "conditions = [\n",
        "    data3['lien_amount_Percent'] >= 100,\n",
        "    ((data3['lien_amount_Percent'] > 90.00) & (data3['lien_amount_Percent'] <= 99.00)),\n",
        "    ((data3['lien_amount_Percent'] > 80.00) & (data3['lien_amount_Percent'] <=90.00)),\n",
        "    ((data3['lien_amount_Percent'] > 70.00) & (data3['lien_amount_Percent'] <= 80.00)),\n",
        "    ((data3['lien_amount_Percent'] > 60.00) & (data3['lien_amount_Percent'] <=70.00)),\n",
        "    ((data3['lien_amount_Percent'] > 50.00) & (data3['lien_amount_Percent'] <= 60.00)),\n",
        "    ((data3['lien_amount_Percent'] > 40.00) & (data3['lien_amount_Percent'] <=50.00)),\n",
        "    ((data3['lien_amount_Percent'] > 30.00) & (data3['lien_amount_Percent'] <= 40.00)),\n",
        "    ((data3['lien_amount_Percent'] > 20.00) & (data3['lien_amount_Percent'] <=30.00)),\n",
        "    ((data3['lien_amount_Percent'] > 10.00) & (data3['lien_amount_Percent'] <=20.00))\n",
        "]\n",
        "choices =['100%',\"90%-100%\", '80-90','70-80','60-70','50-60','40-50','30-40','20-30','10-20']\n",
        "data3['lien_amount_bins'] = np.select(conditions,choices, 'less than 10%')\n",
        "data3['Lien Amount 100%'] = np.where(data3['lien_amount_bins']=='100%', \"Yes\", \"No\")"
      ],
      "execution_count": 21,
      "outputs": []
    },
    {
      "cell_type": "markdown",
      "metadata": {
        "id": "oILR9BqlK9fO"
      },
      "source": [
        "***Creating the date variables ***\n",
        "1. Day of the week it is recorded\n",
        "2. Month of the date it is recorded"
      ]
    },
    {
      "cell_type": "code",
      "metadata": {
        "id": "mXLD-RLFPrpP"
      },
      "source": [
        "data3['Date Recorded'] = data3['Date Recorded'].astype(str)\n",
        "data3['Date Recorded'] = data3['Date Recorded'].replace('3021-03-04 00:00:00','2021-03-04 00:00:00')\n",
        "data3['Date Recorded'] = pd.to_datetime(data3['Date Recorded'])\n",
        "data3['Date'] = [d.date() for d in data3['Date Recorded']]\n",
        "data3['Date'] = pd.to_datetime(data3['Date'], errors='coerce')\n",
        "data3[\"Recorded_Month\"] = data3[\"Date\"].dt.month_name()\n",
        "data3['Recorded_Days'] = data3['Date'].dt.day_name()\n",
        "del data3['Date']"
      ],
      "execution_count": 22,
      "outputs": []
    },
    {
      "cell_type": "markdown",
      "metadata": {
        "id": "EeV9jdwyWAQg"
      },
      "source": [
        "**Creating a new variable decile**"
      ]
    },
    {
      "cell_type": "code",
      "metadata": {
        "id": "Wbv9xLJJUR1a"
      },
      "source": [
        "data3['Decile'] = pd.qcut(data3['Total Value3'], 10,labels = False)\n",
        "data3['Decile']= data3['Decile']+1"
      ],
      "execution_count": 23,
      "outputs": []
    },
    {
      "cell_type": "code",
      "metadata": {
        "id": "csKbeXi3fFUc"
      },
      "source": [
        "#data4 = data3.drop(data3.columns[[13,14]], axis = 1)\n",
        "data4 = data3\n",
        "del data4['Total Value']\n",
        "del data4['Lien Amount']"
      ],
      "execution_count": 24,
      "outputs": []
    },
    {
      "cell_type": "code",
      "metadata": {
        "colab": {
          "base_uri": "https://localhost:8080/",
          "height": 327
        },
        "id": "ObGOLo_7YIUc",
        "outputId": "ae342948-2cdd-48d4-cec2-f5f9563def5f"
      },
      "source": [
        "data4.head(2)"
      ],
      "execution_count": 25,
      "outputs": [
        {
          "output_type": "execute_result",
          "data": {
            "text/html": [
              "<div>\n",
              "<style scoped>\n",
              "    .dataframe tbody tr th:only-of-type {\n",
              "        vertical-align: middle;\n",
              "    }\n",
              "\n",
              "    .dataframe tbody tr th {\n",
              "        vertical-align: top;\n",
              "    }\n",
              "\n",
              "    .dataframe thead th {\n",
              "        text-align: right;\n",
              "    }\n",
              "</style>\n",
              "<table border=\"1\" class=\"dataframe\">\n",
              "  <thead>\n",
              "    <tr style=\"text-align: right;\">\n",
              "      <th></th>\n",
              "      <th>Date Recorded</th>\n",
              "      <th>County</th>\n",
              "      <th>Instrument Number</th>\n",
              "      <th>Lienor</th>\n",
              "      <th>Contract With</th>\n",
              "      <th>Project Address</th>\n",
              "      <th>City</th>\n",
              "      <th>State</th>\n",
              "      <th>Zip</th>\n",
              "      <th>Owner</th>\n",
              "      <th>Resi/Com</th>\n",
              "      <th>Division</th>\n",
              "      <th>Total Value3</th>\n",
              "      <th>Lien Amount3</th>\n",
              "      <th>lien_amount_Percent</th>\n",
              "      <th>lien_amount_bins</th>\n",
              "      <th>Lien Amount 100%</th>\n",
              "      <th>Recorded_Month</th>\n",
              "      <th>Recorded_Days</th>\n",
              "      <th>Decile</th>\n",
              "    </tr>\n",
              "  </thead>\n",
              "  <tbody>\n",
              "    <tr>\n",
              "      <th>0</th>\n",
              "      <td>2021-01-11</td>\n",
              "      <td>Miami-Dade</td>\n",
              "      <td>20210018890</td>\n",
              "      <td>Florida Block Carpentry , Inc.</td>\n",
              "      <td>Steve Bass</td>\n",
              "      <td>1120 Wallace Street Coral Gables Florida</td>\n",
              "      <td>Coral Gables</td>\n",
              "      <td>FL</td>\n",
              "      <td>NaN</td>\n",
              "      <td>Steve Bass &amp; Vanessa Bass</td>\n",
              "      <td>Residential</td>\n",
              "      <td>General Contracting</td>\n",
              "      <td>2240</td>\n",
              "      <td>2240</td>\n",
              "      <td>100.000000</td>\n",
              "      <td>100%</td>\n",
              "      <td>Yes</td>\n",
              "      <td>January</td>\n",
              "      <td>Monday</td>\n",
              "      <td>1</td>\n",
              "    </tr>\n",
              "    <tr>\n",
              "      <th>1</th>\n",
              "      <td>2021-01-11</td>\n",
              "      <td>Miami-Dade</td>\n",
              "      <td>20210020825</td>\n",
              "      <td>Blckstone Consulting , LLC.</td>\n",
              "      <td>Atlantic Coast Restaurant &amp; Mechanical Service...</td>\n",
              "      <td>2820 NE 214 ST.</td>\n",
              "      <td>Aventura</td>\n",
              "      <td>FL</td>\n",
              "      <td>33180.0</td>\n",
              "      <td>Shaley Development  Group LLC.</td>\n",
              "      <td>Commercial</td>\n",
              "      <td>Architectural/Engineering/Surveying</td>\n",
              "      <td>67352</td>\n",
              "      <td>31139</td>\n",
              "      <td>46.233222</td>\n",
              "      <td>40-50</td>\n",
              "      <td>No</td>\n",
              "      <td>January</td>\n",
              "      <td>Monday</td>\n",
              "      <td>8</td>\n",
              "    </tr>\n",
              "  </tbody>\n",
              "</table>\n",
              "</div>"
            ],
            "text/plain": [
              "  Date Recorded      County  ... Recorded_Days Decile\n",
              "0    2021-01-11  Miami-Dade  ...        Monday      1\n",
              "1    2021-01-11  Miami-Dade  ...        Monday      8\n",
              "\n",
              "[2 rows x 20 columns]"
            ]
          },
          "metadata": {
            "tags": []
          },
          "execution_count": 25
        }
      ]
    },
    {
      "cell_type": "code",
      "metadata": {
        "id": "MvI1ffbAXQMB"
      },
      "source": [
        "data4['Zip'] = data4['Zip'].astype(str)\n",
        "data4['Date Recorded'] = data4['Date Recorded'].astype(str)"
      ],
      "execution_count": 26,
      "outputs": []
    },
    {
      "cell_type": "markdown",
      "metadata": {
        "id": "3SbPG2vtWD-3"
      },
      "source": [
        "**Calculation of summary and missing value percentage**"
      ]
    },
    {
      "cell_type": "code",
      "metadata": {
        "id": "M9vY-ylWnGmY"
      },
      "source": [
        "x = data4.describe(include=\"all\").T.reset_index()\n",
        "y = (data4.isnull().sum()/len(data4)*100).reset_index(name=\"Missing %\")\n",
        "final_data = pd.merge(x,y, on='index', how='left')\n",
        "final_data = final_data.rename(columns={'index':'column_name'})"
      ],
      "execution_count": 27,
      "outputs": []
    },
    {
      "cell_type": "code",
      "metadata": {
        "colab": {
          "base_uri": "https://localhost:8080/",
          "height": 137
        },
        "id": "OlQBdeiCIYvG",
        "outputId": "d6f9b300-2fab-4a49-93b1-bbd8bab39ac7"
      },
      "source": [
        "final_data.head(3)"
      ],
      "execution_count": 28,
      "outputs": [
        {
          "output_type": "execute_result",
          "data": {
            "text/html": [
              "<div>\n",
              "<style scoped>\n",
              "    .dataframe tbody tr th:only-of-type {\n",
              "        vertical-align: middle;\n",
              "    }\n",
              "\n",
              "    .dataframe tbody tr th {\n",
              "        vertical-align: top;\n",
              "    }\n",
              "\n",
              "    .dataframe thead th {\n",
              "        text-align: right;\n",
              "    }\n",
              "</style>\n",
              "<table border=\"1\" class=\"dataframe\">\n",
              "  <thead>\n",
              "    <tr style=\"text-align: right;\">\n",
              "      <th></th>\n",
              "      <th>column_name</th>\n",
              "      <th>count</th>\n",
              "      <th>unique</th>\n",
              "      <th>top</th>\n",
              "      <th>freq</th>\n",
              "      <th>first</th>\n",
              "      <th>last</th>\n",
              "      <th>mean</th>\n",
              "      <th>std</th>\n",
              "      <th>min</th>\n",
              "      <th>25%</th>\n",
              "      <th>50%</th>\n",
              "      <th>75%</th>\n",
              "      <th>max</th>\n",
              "      <th>Missing %</th>\n",
              "    </tr>\n",
              "  </thead>\n",
              "  <tbody>\n",
              "    <tr>\n",
              "      <th>0</th>\n",
              "      <td>Date Recorded</td>\n",
              "      <td>1893</td>\n",
              "      <td>86</td>\n",
              "      <td>2021-02-02 00:00:00</td>\n",
              "      <td>40</td>\n",
              "      <td>2021-01-04</td>\n",
              "      <td>2021-04-30</td>\n",
              "      <td>NaN</td>\n",
              "      <td>NaN</td>\n",
              "      <td>NaN</td>\n",
              "      <td>NaN</td>\n",
              "      <td>NaN</td>\n",
              "      <td>NaN</td>\n",
              "      <td>NaN</td>\n",
              "      <td>0.0</td>\n",
              "    </tr>\n",
              "    <tr>\n",
              "      <th>1</th>\n",
              "      <td>County</td>\n",
              "      <td>1893</td>\n",
              "      <td>3</td>\n",
              "      <td>Miami-Dade</td>\n",
              "      <td>720</td>\n",
              "      <td>NaT</td>\n",
              "      <td>NaT</td>\n",
              "      <td>NaN</td>\n",
              "      <td>NaN</td>\n",
              "      <td>NaN</td>\n",
              "      <td>NaN</td>\n",
              "      <td>NaN</td>\n",
              "      <td>NaN</td>\n",
              "      <td>NaN</td>\n",
              "      <td>0.0</td>\n",
              "    </tr>\n",
              "    <tr>\n",
              "      <th>2</th>\n",
              "      <td>Instrument Number</td>\n",
              "      <td>1893</td>\n",
              "      <td>1882</td>\n",
              "      <td>2.02101e+10</td>\n",
              "      <td>2</td>\n",
              "      <td>NaT</td>\n",
              "      <td>NaT</td>\n",
              "      <td>NaN</td>\n",
              "      <td>NaN</td>\n",
              "      <td>NaN</td>\n",
              "      <td>NaN</td>\n",
              "      <td>NaN</td>\n",
              "      <td>NaN</td>\n",
              "      <td>NaN</td>\n",
              "      <td>0.0</td>\n",
              "    </tr>\n",
              "  </tbody>\n",
              "</table>\n",
              "</div>"
            ],
            "text/plain": [
              "         column_name count unique  ...  75%  max Missing %\n",
              "0      Date Recorded  1893     86  ...  NaN  NaN       0.0\n",
              "1             County  1893      3  ...  NaN  NaN       0.0\n",
              "2  Instrument Number  1893   1882  ...  NaN  NaN       0.0\n",
              "\n",
              "[3 rows x 15 columns]"
            ]
          },
          "metadata": {
            "tags": []
          },
          "execution_count": 28
        }
      ]
    },
    {
      "cell_type": "markdown",
      "metadata": {
        "id": "3EzaYjenWJ8U"
      },
      "source": [
        "**Putting the columns in order and renaming if needed**"
      ]
    },
    {
      "cell_type": "code",
      "metadata": {
        "id": "kOBEH-9KIU3T"
      },
      "source": [
        "final_data1 = final_data[[\"column_name\",'count', 'unique','Missing %','top','freq','mean','std','min','25%','50%','75%','max']]"
      ],
      "execution_count": 29,
      "outputs": []
    },
    {
      "cell_type": "code",
      "metadata": {
        "id": "E8Q0hVFYLXc2"
      },
      "source": [
        "data4 = data4[['Date Recorded','Recorded_Month', 'Recorded_Days', 'County', 'Instrument Number', 'Lienor',\n",
        "       'Contract With', 'Project Address', 'City', 'State', 'Zip', 'Owner',\n",
        "       'Resi/Com', 'Division', 'Total Value3', 'Lien Amount3',\n",
        "       'lien_amount_Percent', 'lien_amount_bins', 'Lien Amount 100%',\n",
        "        'Decile']]"
      ],
      "execution_count": 30,
      "outputs": []
    },
    {
      "cell_type": "code",
      "metadata": {
        "id": "70RsCni8Lr_w"
      },
      "source": [
        "data4 = data4.rename(columns= {'Total Value3':'Total Value',\n",
        "                               'Lien Amount3':'Lien Amount',\n",
        "                               'lien_amount_Percent':'%Lien Amount',\n",
        "                               'lien_amount_bins':'%Lien Amount Bin'})"
      ],
      "execution_count": 31,
      "outputs": []
    },
    {
      "cell_type": "markdown",
      "metadata": {
        "id": "sPQGM2dZwdRw"
      },
      "source": [
        "**writing the final data to excel**"
      ]
    },
    {
      "cell_type": "code",
      "metadata": {
        "id": "J2gG9QjNpUY2"
      },
      "source": [
        "writer = pd.ExcelWriter('/content/gdrive/MyDrive/project2/final_data_v2.xlsx', engine='xlsxwriter')\n",
        "data.to_excel(writer, sheet_name='Original_Data',index=False)\n",
        "data4.to_excel(writer, sheet_name='Refined_Data', index=False)\n",
        "final_data1.to_excel(writer, sheet_name=\"Summary of Data\",index=False)\n",
        "writer.save()\n",
        "writer.close()"
      ],
      "execution_count": 40,
      "outputs": []
    },
    {
      "cell_type": "code",
      "metadata": {
        "id": "qV2VO3IdM7WK"
      },
      "source": [
        ""
      ],
      "execution_count": null,
      "outputs": []
    },
    {
      "cell_type": "markdown",
      "metadata": {
        "id": "AiDoBsrKU0Dd"
      },
      "source": [
        "**End of the code**"
      ]
    },
    {
      "cell_type": "markdown",
      "metadata": {
        "id": "Qx3Q2MNP4K4v"
      },
      "source": [
        "**Method to upload data to google sheets and then get the plots directly**"
      ]
    },
    {
      "cell_type": "code",
      "metadata": {
        "id": "OjEAUIGa5d24"
      },
      "source": [
        "import gspread\n",
        "import pandas as pd\n",
        "from apiclient.discovery import build\n",
        "from oauth2client.service_account import ServiceAccountCredentials\n",
        "\n",
        "def iter_pd(df):\n",
        "    for val in df.columns:\n",
        "        yield val\n",
        "    for row in df.to_numpy():\n",
        "        for val in row:\n",
        "            if pd.isna(val):\n",
        "                yield \"\"\n",
        "            else:\n",
        "                yield val\n",
        "\n",
        "def pandas_to_sheets(pandas_df, sheet, clear = True):\n",
        "    # Updates all values in a workbook to match a pandas dataframe\n",
        "    if clear:\n",
        "        sheet.clear()\n",
        "    (row, col) = pandas_df.shape\n",
        "    cells = sheet.range(\"A1:{}\".format(gspread.utils.rowcol_to_a1(row + 1, col)))\n",
        "    for cell, val in zip(cells, iter_pd(pandas_df)):\n",
        "        cell.value = val\n",
        "    sheet.update_cells(cells)\n",
        "\n",
        "scope = ['https://spreadsheets.google.com/feeds',\n",
        "         'https://www.googleapis.com/auth/drive']\n",
        "\n",
        "credentials = ServiceAccountCredentials.from_json_keyfile_name('/content/gdrive/MyDrive/project2/jsonFileFromGoogle.json', scope)\n"
      ],
      "execution_count": 72,
      "outputs": []
    },
    {
      "cell_type": "code",
      "metadata": {
        "id": "Cr-8e9eJ9-qy"
      },
      "source": [
        "gc = gspread.authorize(credentials)\n",
        "workbook = gc.open_by_key(\"1E3yqB3oeNlcGVubKknqXDfU2uDKIm3zdrWiY5hB6rpU\")\n",
        "pandas_to_sheets(data4, workbook.worksheet(\"Refined_Data\"))"
      ],
      "execution_count": 74,
      "outputs": []
    },
    {
      "cell_type": "code",
      "metadata": {
        "id": "1M2TA4IzD-Hr"
      },
      "source": [
        "final_data2= final_data1.fillna(0)"
      ],
      "execution_count": 82,
      "outputs": []
    },
    {
      "cell_type": "code",
      "metadata": {
        "id": "AIIZuXlWFIsE"
      },
      "source": [
        "final_data1['Missing %'] = final_data1['Missing %'].astype(float)\n",
        "final_data1['count'] = final_data1['count'].astype(float)\n",
        "final_data1['unique'] = final_data1['unique'].astype(float)\n",
        "final_data1['freq'] = final_data1['freq'].astype(float)\n",
        "final_data1['mean'] = final_data1['mean'].astype(float)\n",
        "final_data1['std'] = final_data1['std'].astype(float)\n",
        "final_data1['min'] = final_data1['min'].astype(float)\n",
        "final_data1['25%'] = final_data1['25%'].astype(float)\n",
        "final_data1['50%'] = final_data1['50%'].astype(float)\n",
        "final_data1['75%'] = final_data1['75%'].astype(float)\n",
        "final_data1['max'] = final_data1['max'].astype(float)\n",
        "final_data1['top'] = final_data1['top'].astype(str)"
      ],
      "execution_count": 91,
      "outputs": []
    },
    {
      "cell_type": "code",
      "metadata": {
        "id": "SqipxFVHD1rZ"
      },
      "source": [
        "pandas_to_sheets(final_data1, workbook.worksheet(\"Summary\"))"
      ],
      "execution_count": 92,
      "outputs": []
    },
    {
      "cell_type": "markdown",
      "metadata": {
        "id": "05BCBpJ1BCgq"
      },
      "source": [
        "End of Updating the Sheet"
      ]
    }
  ]
}